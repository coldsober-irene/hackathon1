{
  "nbformat": 4,
  "nbformat_minor": 0,
  "metadata": {
    "colab": {
      "provenance": [],
      "mount_file_id": "https://github.com/coldsober-irene/hackathon1/blob/main/translator.ipynb",
      "authorship_tag": "ABX9TyNrUAB05nT/ze8/QwEkUiY7",
      "include_colab_link": true
    },
    "kernelspec": {
      "name": "python3",
      "display_name": "Python 3"
    },
    "language_info": {
      "name": "python"
    },
    "accelerator": "GPU",
    "gpuClass": "standard"
  },
  "cells": [
    {
      "cell_type": "markdown",
      "metadata": {
        "id": "view-in-github",
        "colab_type": "text"
      },
      "source": [
        "<a href=\"https://colab.research.google.com/github/coldsober-irene/hackathon1/blob/main/translator.ipynb\" target=\"_parent\"><img src=\"https://colab.research.google.com/assets/colab-badge.svg\" alt=\"Open In Colab\"/></a>"
      ]
    },
    {
      "cell_type": "code",
      "execution_count": null,
      "metadata": {
        "id": "SykL-drXk7L3"
      },
      "outputs": [],
      "source": [
        "# using EasyNMT\n",
        "!pip install  -U easynmt"
      ]
    },
    {
      "cell_type": "code",
      "source": [
        "# REQUIRE EASYNMT\n",
        "from easynmt import EasyNMT\n",
        "import json # to access languages codes"
      ],
      "metadata": {
        "id": "MQmwNo4UL35T"
      },
      "execution_count": 2,
      "outputs": []
    },
    {
      "cell_type": "code",
      "source": [
        "class translator:\n",
        "  def __init__(self):\n",
        "    # INITIALIZE THE MODEL FOR TRANSLATE\n",
        "    self.model = EasyNMT(\"opus-mt\")\n",
        "  \n",
        "  def supportedLangs(self, all_langs, default = 'en'):\n",
        "    with open(all_langs) as f_json:\n",
        "      content = f_json.read()\n",
        "    langs = json.loads(content)\n",
        "    supported_langs = {}\n",
        "    countries = list(langs.keys())\n",
        "    for index,lang in enumerate(list(langs.values())):\n",
        "      try:\n",
        "        if len(supported_langs) == 55:\n",
        "          break\n",
        "        if lang != default:\n",
        "          self.model.translate(['i will'], target_lang = lang)\n",
        "          supported_langs[countries[index]] = lang\n",
        "      except:\n",
        "        pass\n",
        "    \"\"\"with open(supported) as f2_json:\n",
        "          content = f2_json.read()\n",
        "    supplangs = json.loads(content)\n",
        "    supp_codes = set(list(langs.values())).intersection(set(supplangs))\n",
        "    supp_keyValue = {}\n",
        "    for key in langs.keys():\n",
        "      if langs[key] in supp_codes:\n",
        "        supp_keyValue[key] = langs[key]\"\"\"\n",
        "    return supported_langs\n",
        "    \n",
        "\n",
        "  def translate(self, sentences, targetLang, source = 'en', single = True):\n",
        "    fail_message = \"[FAIL]: destination lang is not a suported language by the model\"\n",
        "    success = 0\n",
        "    if single:\n",
        "      try:\n",
        "        translation = self.model.translate(sentences, source_lang = source, target_lang = targetLang)\n",
        "        return translation\n",
        "      except:\n",
        "        print(fail_message)\n",
        "    else:\n",
        "      translated = []\n",
        "      for target in targetLang:\n",
        "        try:\n",
        "          translation = self.model.translate(sentences, source_lang = source, target_lang = target)\n",
        "          translated.append(translation)\n",
        "          success += 1\n",
        "        except:\n",
        "          print(fail_message)\n",
        "      return translated, success\n"
      ],
      "metadata": {
        "id": "ONXxNfnALPVx"
      },
      "execution_count": 3,
      "outputs": []
    },
    {
      "cell_type": "markdown",
      "source": [
        "**check the output**"
      ],
      "metadata": {
        "id": "KL5qkTnFwcdl"
      }
    },
    {
      "cell_type": "code",
      "source": [
        "sentences = ['Jesus is alive',\n",
        "             'what a beautiful day it is',\n",
        "             'Hands on projects is our priority',\n",
        "             'I do not have anything',\n",
        "             'do not share those sentences on the slack']"
      ],
      "metadata": {
        "id": "6hn3-VzLNqQl"
      },
      "execution_count": 4,
      "outputs": []
    },
    {
      "cell_type": "code",
      "source": [
        "# trans = translator(destination_lang = 'fr', sentences = sentences) # from english to french\n",
        "# trans = translator(destination_lang = \"rw\", sentences = sentences) # english to kinyarwanda\n",
        "trans = translator() # english to chinese\n",
        "supportedLangs = trans.supportedLangs(all_langs = \"/content/drive/MyDrive/NLP fellowship/files/langs.json\")\n",
        "# translations = trans.translate(sentences, targetLang = list(supportedLangs.values())[:40], single = False)\n"
      ],
      "metadata": {
        "id": "vVesJOldMx5B"
      },
      "execution_count": null,
      "outputs": []
    },
    {
      "cell_type": "code",
      "source": [
        "print(supportedLangs)"
      ],
      "metadata": {
        "id": "t375vcDLUqR2"
      },
      "execution_count": null,
      "outputs": []
    }
  ]
}