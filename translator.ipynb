{
  "nbformat": 4,
  "nbformat_minor": 0,
  "metadata": {
    "colab": {
      "provenance": [],
      "mount_file_id": "1Patg4zBFjd4y7O5E7ayezsU-uJ-3snbN",
      "authorship_tag": "ABX9TyPtZv2S5ubTRGRCBW2mnJLv",
      "include_colab_link": true
    },
    "kernelspec": {
      "name": "python3",
      "display_name": "Python 3"
    },
    "language_info": {
      "name": "python"
    },
    "accelerator": "GPU",
    "gpuClass": "standard"
  },
  "cells": [
    {
      "cell_type": "markdown",
      "metadata": {
        "id": "view-in-github",
        "colab_type": "text"
      },
      "source": [
        "<a href=\"https://colab.research.google.com/github/coldsober-irene/hackathon1/blob/main/translator.ipynb\" target=\"_parent\"><img src=\"https://colab.research.google.com/assets/colab-badge.svg\" alt=\"Open In Colab\"/></a>"
      ]
    },
    {
      "cell_type": "code",
      "execution_count": null,
      "metadata": {
        "id": "SykL-drXk7L3"
      },
      "outputs": [],
      "source": [
        "# using EasyNMT\n",
        "!pip install  -U easynmt\n",
        "# get the language codes\n",
        "!pip install pycountry"
      ]
    },
    {
      "cell_type": "code",
      "source": [
        "import pycountry\n",
        "langs = list(pycountry.countries)\n",
        "print(langs)"
      ],
      "metadata": {
        "id": "bGp-Urc2RBKG"
      },
      "execution_count": null,
      "outputs": []
    },
    {
      "cell_type": "code",
      "source": [
        "# REQUIRE EASYNMT\n",
        "from easynmt import EasyNMT\n",
        "import json # to access languages codes"
      ],
      "metadata": {
        "id": "MQmwNo4UL35T"
      },
      "execution_count": 16,
      "outputs": []
    },
    {
      "cell_type": "code",
      "source": [
        "with open(\"/content/langs.json\") as f_json:\n",
        "      content = f_json.read()\n",
        "langs = json.loads(content)\n",
        "\n",
        "with open(\"/content/supported_lang.json\") as f2_json:\n",
        "      content = f2_json.read()\n",
        "supplangs = json.loads(content)"
      ],
      "metadata": {
        "id": "jTY4Mlm7WEfM"
      },
      "execution_count": 33,
      "outputs": []
    },
    {
      "cell_type": "code",
      "source": [
        "set(list(langs.values())).intersection(set(supplangs))"
      ],
      "metadata": {
        "id": "GYXJdoLSf5wZ"
      },
      "execution_count": null,
      "outputs": []
    },
    {
      "cell_type": "code",
      "source": [
        "class translator:\n",
        "  def __init__(self):\n",
        "    # INITIALIZE THE MODEL FOR TRANSLATE\n",
        "    self.model = EasyNMT(\"opus-mt\")\n",
        "  \n",
        "  def supportedLangs(self, all_langs, supported):\n",
        "    with open(all_langs) as f_json:\n",
        "      content = f_json.read()\n",
        "    langs = json.loads(content)\n",
        "\n",
        "    with open(supported) as f2_json:\n",
        "          content = f2_json.read()\n",
        "    supplangs = json.loads(content)\n",
        "    supp_codes = set(list(langs.values())).intersection(set(supplangs))\n",
        "    supp_keyValue = {}\n",
        "    for key in langs.keys():\n",
        "      if langs[key] in supp_codes:\n",
        "        supp_keyValue[key] = langs[key]\n",
        "    return supp_keyValue\n",
        "    \n",
        "\n",
        "  def translate(self, sentences, targetLang, source = 'en', single = True):\n",
        "    fail_message = \"[FAIL]: destination lang is not a suported language by the model\"\n",
        "    success = 0\n",
        "    if single:\n",
        "      try:\n",
        "        translation = self.model.translate(sentences, source_lang = source, target_lang = targetLang)\n",
        "        return translation\n",
        "      except:\n",
        "        print(fail_message)\n",
        "    else:\n",
        "      translated = []\n",
        "      for target in targetLang:\n",
        "        try:\n",
        "          translation = self.model.translate(sentences, source_lang = source, target_lang = target)\n",
        "          translated.append(translation)\n",
        "          success += 1\n",
        "        except:\n",
        "          print(fail_message)\n",
        "      return translated, success\n"
      ],
      "metadata": {
        "id": "ONXxNfnALPVx"
      },
      "execution_count": 65,
      "outputs": []
    },
    {
      "cell_type": "markdown",
      "source": [
        "**check the output**"
      ],
      "metadata": {
        "id": "KL5qkTnFwcdl"
      }
    },
    {
      "cell_type": "code",
      "source": [
        "sentences = ['Jesus is alive',\n",
        "             'what a beautiful day it is',\n",
        "             'Hands on projects is our priority',\n",
        "             'I do not have anything',\n",
        "             'do not share those sentences on the slack']"
      ],
      "metadata": {
        "id": "6hn3-VzLNqQl"
      },
      "execution_count": 55,
      "outputs": []
    },
    {
      "cell_type": "code",
      "source": [
        "# trans = translator(destination_lang = 'fr', sentences = sentences) # from english to french\n",
        "# trans = translator(destination_lang = \"rw\", sentences = sentences) # english to kinyarwanda\n",
        "trans = translator() # english to chinese\n",
        "supportedLangs = trans.supportedLangs(all_langs = \"/content/drive/MyDrive/NLP fellowship/files/langs.json\", \n",
        "                                      supported = \"/content/drive/MyDrive/NLP fellowship/files/supported_lang.json\")\n",
        "translations = trans.translate(sentences, targetLang = list(supportedLangs.values())[:40], single = False)\n"
      ],
      "metadata": {
        "id": "vVesJOldMx5B"
      },
      "execution_count": null,
      "outputs": []
    },
    {
      "cell_type": "code",
      "source": [
        "print(translations[0], translations[1])"
      ],
      "metadata": {
        "id": "t375vcDLUqR2"
      },
      "execution_count": null,
      "outputs": []
    }
  ]
}