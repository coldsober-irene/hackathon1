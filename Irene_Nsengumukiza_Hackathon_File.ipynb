{
  "nbformat": 4,
  "nbformat_minor": 0,
  "metadata": {
    "colab": {
      "provenance": [],
      "include_colab_link": true
    },
    "kernelspec": {
      "name": "python3",
      "display_name": "Python 3"
    },
    "language_info": {
      "name": "python"
    }
  },
  "cells": [
    {
      "cell_type": "markdown",
      "metadata": {
        "id": "view-in-github",
        "colab_type": "text"
      },
      "source": [
        "<a href=\"https://colab.research.google.com/github/coldsober-irene/hackathon1/blob/main/Irene_Nsengumukiza_Hackathon_File.ipynb\" target=\"_parent\"><img src=\"https://colab.research.google.com/assets/colab-badge.svg\" alt=\"Open In Colab\"/></a>"
      ]
    },
    {
      "cell_type": "markdown",
      "source": [
        "**Installation zone**"
      ],
      "metadata": {
        "id": "TS7wXpo9JbDj"
      }
    },
    {
      "cell_type": "code",
      "source": [
        "!pip install fastapi pyngrok uvicorn nest-asyncio"
      ],
      "metadata": {
        "id": "8xRwH7UXJgxH"
      },
      "execution_count": null,
      "outputs": []
    },
    {
      "cell_type": "code",
      "source": [
        "!pip install -U easynmt"
      ],
      "metadata": {
        "id": "3ZS1L7VV9ukO"
      },
      "execution_count": null,
      "outputs": []
    },
    {
      "cell_type": "markdown",
      "source": [
        "**All required imports**"
      ],
      "metadata": {
        "id": "bf4vZkuWJPs1"
      }
    },
    {
      "cell_type": "code",
      "source": [
        "import requests\n",
        "from bs4 import BeautifulSoup\n",
        "import pandas as pd\n",
        "import re\n",
        "from fastapi import FastAPI, Response\n",
        "from pyngrok import ngrok\n",
        "import nest_asyncio\n",
        "import uvicorn\n",
        "from starlette.responses import HTMLResponse\n",
        "import json\n",
        "from easynmt import EasyNMT"
      ],
      "metadata": {
        "id": "SDwJu4TMJOtV"
      },
      "execution_count": null,
      "outputs": []
    },
    {
      "cell_type": "markdown",
      "source": [
        "**other prequisties**"
      ],
      "metadata": {
        "id": "hY5nRHFs_Fl0"
      }
    },
    {
      "cell_type": "code",
      "source": [
        "!ngrok authtoken 2HJPvK5e4VxcduBjO5XSc0LqqCR_5zV3b5gBcKuNMUnxdpfuP"
      ],
      "metadata": {
        "id": "6szu0V5h_C_B"
      },
      "execution_count": null,
      "outputs": []
    },
    {
      "cell_type": "code",
      "source": [
        "from google.colab import drive\n",
        "drive.mount('/content/drive')"
      ],
      "metadata": {
        "id": "nzsKEII3_TNL"
      },
      "execution_count": null,
      "outputs": []
    },
    {
      "cell_type": "markdown",
      "source": [
        "#PART 1: WEB SCRAPING OF JOB IN RWANDA"
      ],
      "metadata": {
        "id": "g6zfqvFuJC4e"
      }
    },
    {
      "cell_type": "code",
      "execution_count": null,
      "metadata": {
        "id": "-Pmusf2d79_j"
      },
      "outputs": [],
      "source": [
        "# SOUP\n",
        "url = 'https://www.jobinrwanda.com/jobs/featured'\n",
        "soup = BeautifulSoup(requests.get(url).content, 'html.parser')"
      ]
    },
    {
      "cell_type": "code",
      "source": [
        "# LINKS OF ALL FEATURED CONTENT ON WEB\n",
        "job_titles = {}\n",
        "\n",
        "parent_divs = soup.find_all('div', class_ = 'card-body p-2')\n",
        "featured_links = []\n",
        "\n",
        "for index,div in enumerate(parent_divs):\n",
        "  anchor = div.find('a')\n",
        "  output_link = 'https://www.jobinrwanda.com'+anchor['href']\n",
        "  job_titles[index] = anchor.find('h5', class_ = 'card-title').get_text()\n",
        "  featured_links.append(output_link)\n",
        "job_titles = list(job_titles.values())"
      ],
      "metadata": {
        "id": "raULeFAJ_dvT"
      },
      "execution_count": null,
      "outputs": []
    },
    {
      "cell_type": "code",
      "source": [
        "# EACH LINK SOUP\n",
        "soups2 = {}\n",
        "for index,link in enumerate(f_links):\n",
        "  SOUP = BeautifulSoup(requests.get(link).content, 'html.parser')\n",
        "  soups2[index] = SOUP"
      ],
      "metadata": {
        "id": "M6ppEskv_uaO"
      },
      "execution_count": null,
      "outputs": []
    },
    {
      "cell_type": "code",
      "source": [
        "# DIVS FOR EACH FEATURE CONTENT\n",
        "description_divs = {}\n",
        "job_summary = {}\n",
        "for index,level2_soup in enumerate(list(soups2.values())):\n",
        "  description_divs[index] = level2_soup.find('div', class_ = 'clearfix text-formatted field field--name-field-job-full-description field--type-text-long field--label-hidden field__item')\n",
        "  ul = level2_soup.find('ul', class_ = 'list-group list-group-flush')\n",
        "  info = {}\n",
        "  for li in ul.children:\n",
        "    try:\n",
        "      summary = re.sub('\\s{2,}|\\n',' ',li.text) # both key and value together as str\n",
        "      # separate key & value to get key:value dictionary\n",
        "      if not 'apply' in summary.lower():\n",
        "        if 'viewed' in summary:\n",
        "          times = re.search('\\d+', summary).group()\n",
        "          info['views'] = times\n",
        "        else:\n",
        "          k,value = re.split(':', summary)[:2]\n",
        "          info[k.lstrip()] = value\n",
        "    except AttributeError:\n",
        "      pass\n",
        "  job_summary[index] = info\n"
      ],
      "metadata": {
        "id": "92no6BvA_wPp"
      },
      "execution_count": null,
      "outputs": []
    },
    {
      "cell_type": "code",
      "source": [
        "# FULL CONTENT OF EACH FEATURE\n",
        "full_description = {}\n",
        "for index,div in enumerate(list(description_divs.values())):\n",
        "  single_div_content = []\n",
        "  for para in div.find_all('p', class_ = 'text-align-justify'):\n",
        "    single_div_content.append(para.get_text())\n",
        "  full_description[index] = re.sub('\\n|\\\\xa0','','\\n'.join(single_div_content))"
      ],
      "metadata": {
        "id": "PjwuVwrx_0af"
      },
      "execution_count": null,
      "outputs": []
    },
    {
      "cell_type": "code",
      "source": [
        "# CREATE THE JOB ROW TO BE USED IN THE DATAFRAME\n",
        "job_info_rows = []\n",
        "for index in list(content_divs.keys()):\n",
        "  summary_info = list(job_summary[index].values())\n",
        "  descr_text = [full_content[index]]\n",
        "  job_info_rows.append(summary_info + descr_text)\n",
        "job_info_rows"
      ],
      "metadata": {
        "id": "FexIP9i9_4Vm"
      },
      "execution_count": null,
      "outputs": []
    },
    {
      "cell_type": "code",
      "source": [
        "# CREATE DATAFRAME\n",
        "columns = list(job_info[0].keys()) + ['Description']\n",
        "df1 = pd.df1(job_info_rows, columns = columns)\n",
        "df1['job title'] = job_titles\n",
        "df1['job title'] = df1['job title'].str.replace('\\n','',regex=True).astype('str')"
      ],
      "metadata": {
        "id": "mNVQyLlA_7cK"
      },
      "execution_count": null,
      "outputs": []
    },
    {
      "cell_type": "code",
      "source": [
        "# FILTER FOR ONLY IT RELATED JOBS & CONSULTANCY\n",
        "IT_based_jobs = dataframe.copy()\n",
        "IT_based_jobs['is IT job'] = False\n",
        "\n",
        "for index in range(len(IT_based_jobs)):\n",
        "  if re.findall('Computer|IT|Software', IT_based_jobs.iloc[index]['Sector']):\n",
        "    IT_based_jobs['is IT job'][index] = True\n",
        "\n",
        "IT_based_jobs = IT_based_jobs[IT_based_jobs['is IT job'] == True]"
      ],
      "metadata": {
        "id": "vTD74SQLAPBw"
      },
      "execution_count": null,
      "outputs": []
    },
    {
      "cell_type": "markdown",
      "source": [
        "#PART 2 : WEBSCRAP umucyo.gov.rw"
      ],
      "metadata": {
        "id": "QTfMb5c-NBVm"
      }
    },
    {
      "cell_type": "code",
      "source": [
        "url = 'https://www.umucyo.gov.rw/eb/bav/selectListAdvertisingListForGU.do'\n",
        "umucyo_soup = BeautifulSoup(requests.get(url).content, 'html.parser')\n",
        "table = umucyo_soup.find('table', class_ = 'article_table mb10')\n",
        "\n",
        "# CREATE COLUMNS FOR THE DATAFRAME\n",
        "head_row = table.find('thead').find('tr')\n",
        "titles = []\n",
        "for th in head_row.find_all('th'):\n",
        "  titles.append(re.sub('\\r|\\n|\\t','',th.text))\n",
        "titles = titles[1:]"
      ],
      "metadata": {
        "id": "tCezIV89NMX5"
      },
      "execution_count": null,
      "outputs": []
    },
    {
      "cell_type": "code",
      "source": [
        "# MAKE DATAFRAME BODY\n",
        "body_rows = table.find('tbody').find_all('tr') \n",
        "full_data = []\n",
        "for row in body_rows:\n",
        "  ls = []\n",
        "  for detail in row.find_all('td'):\n",
        "    ls.append(re.sub('\\n|\\r|\\t|\\s', '',detail.text))\n",
        "  full_data.append(ls[1:])\n"
      ],
      "metadata": {
        "id": "Hmbld0vbAu_9"
      },
      "execution_count": null,
      "outputs": []
    },
    {
      "cell_type": "code",
      "source": [
        "# CREATE UMUCYO DATAFRAME\n",
        "umucyo_df = pd.DataFrame(full_data, columns = titles)"
      ],
      "metadata": {
        "id": "pA88F_YZA_ob"
      },
      "execution_count": null,
      "outputs": []
    },
    {
      "cell_type": "markdown",
      "source": [
        "#PART 3.0 : TRANSLATION IN ALL SUPPORTED LANGUAGES BY EASYNMT"
      ],
      "metadata": {
        "id": "rhfsp3c4BVw2"
      }
    },
    {
      "cell_type": "code",
      "source": [
        "model = EasyNMT('opus-mt')\n",
        "app = FastAPI(title = 'my application api')\n",
        "prev = 'en'\n",
        "@app.get('/let')\n",
        "def do(lang:str='', orient:str='index'):\n",
        "  global prev\n",
        "  try:\n",
        "    for index in range(len(IT_based_jobs)):\n",
        "      IT_based_jobs['job title'][index] = model.translate(IT_based_jobs.iloc[index]['job title'], source_lang = prev, target_lang = lang)\n",
        "      IT_based_jobs['Description'][index] = model.translate(IT_based_jobs.iloc[index]['Description'], source_lang = prev, target_lang = lang)\n",
        "      prev = str(lang)\n",
        "    return Response(IT_based_jobs.to_json(orient = orient), media_type = 'application/json')\n",
        "  except:\n",
        "    pass"
      ],
      "metadata": {
        "id": "8QHXsO_5BP7s"
      },
      "execution_count": null,
      "outputs": []
    },
    {
      "cell_type": "markdown",
      "source": [
        "#PART 3.1. DISPLAY JSON DATA OF DATAFRAMES"
      ],
      "metadata": {
        "id": "flJJHwDKH34O"
      }
    },
    {
      "cell_type": "code",
      "source": [
        "# DISPLAY ALL IT JOBS ON THE BROWSER\n",
        "@app.get('/IT')\n",
        "def show(orient:str='index'):\n",
        "    return Response(IT_based_jobs.to_json(orient = orient), media_type = 'application/json')"
      ],
      "metadata": {
        "id": "7wMNktPfBmgN"
      },
      "execution_count": null,
      "outputs": []
    },
    {
      "cell_type": "code",
      "source": [
        "# SHOW TO THE BROWSER ALL INFORMATIONS RETRIEVED FROM JOBINRWANDA\n",
        "@app.get('/jobs')\n",
        "def showall(orient:str='index'):\n",
        "    return Response(dataframe.to_json(orient = orient), media_type = 'application/json')"
      ],
      "metadata": {
        "id": "qw-z4bdZBrr9"
      },
      "execution_count": null,
      "outputs": []
    },
    {
      "cell_type": "code",
      "source": [
        "# SHOW ALL UMUCYO INFORMATION TO THE BROWSER\n",
        "@app.get('/umucyo_tenders')\n",
        "def show_umucyo(orient:str='index'):\n",
        "    return Response(umucyo_df.to_json(orient = orient), media_type = 'application/json')"
      ],
      "metadata": {
        "id": "BSFnEMPbB5B9"
      },
      "execution_count": null,
      "outputs": []
    },
    {
      "cell_type": "code",
      "source": [
        "# RUN THE SERVER\n",
        "pipe = ngrok.connect(8000)\n",
        "print(\"PUBLIC URL: \", pipe.public_url)\n",
        "nest_asyncio.apply()\n",
        "uvicorn.run(app, port = 8000)"
      ],
      "metadata": {
        "id": "Loj0NHKwCHwD"
      },
      "execution_count": null,
      "outputs": []
    }
  ]
}