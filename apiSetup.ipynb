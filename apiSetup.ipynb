{
  "nbformat": 4,
  "nbformat_minor": 0,
  "metadata": {
    "colab": {
      "provenance": [],
      "authorship_tag": "ABX9TyM/ZG+LDWKIDSj0po6DBh2j",
      "include_colab_link": true
    },
    "kernelspec": {
      "name": "python3",
      "display_name": "Python 3"
    },
    "language_info": {
      "name": "python"
    }
  },
  "cells": [
    {
      "cell_type": "markdown",
      "metadata": {
        "id": "view-in-github",
        "colab_type": "text"
      },
      "source": [
        "<a href=\"https://colab.research.google.com/github/coldsober-irene/hackathon1/blob/main/apiSetup.ipynb\" target=\"_parent\"><img src=\"https://colab.research.google.com/assets/colab-badge.svg\" alt=\"Open In Colab\"/></a>"
      ]
    },
    {
      "cell_type": "code",
      "execution_count": null,
      "metadata": {
        "id": "t5nme7gGpGsP"
      },
      "outputs": [],
      "source": [
        "!pip install fastapi pyngrok uvicorn nest-asyncio"
      ]
    },
    {
      "cell_type": "code",
      "source": [
        "!pip install easynmt"
      ],
      "metadata": {
        "id": "-_kOmZbj7uJv"
      },
      "execution_count": null,
      "outputs": []
    },
    {
      "cell_type": "code",
      "source": [
        "# config the account\n",
        "!ngrok authtoken 2HJPvK5e4VxcduBjO5XSc0LqqCR_5zV3b5gBcKuNMUnxdpfuP"
      ],
      "metadata": {
        "colab": {
          "base_uri": "https://localhost:8080/"
        },
        "id": "ubOR4J8RpwTT",
        "outputId": "89518b2f-4e23-4db8-8ceb-4ccc3bec2d2d"
      },
      "execution_count": 3,
      "outputs": [
        {
          "output_type": "stream",
          "name": "stdout",
          "text": [
            "Authtoken saved to configuration file: /root/.ngrok2/ngrok.yml\n"
          ]
        }
      ]
    },
    {
      "cell_type": "code",
      "source": [
        "from fastapi import FastAPI, Request\n",
        "from datetime import datetime as dt\n",
        "from easynmt import EasyNMT\n",
        "\n",
        "\"\"\"\n",
        "pip install fastapi\n",
        "pip install uvicorn : (fastapi wrapper)\n",
        "to run the app: go in terminal >>> type: >>> uvicorn main:app or python -m uvicorn main:app --reload\n",
        "\"\"\"\n",
        "# INITIATE THE APP\n",
        "myApp = FastAPI(title = \"Hackathon1 api\")\n",
        "\n",
        "@myApp.get('/')\n",
        "def index():\n",
        "    return \"My name is Irene NSENGUMUKIZA, This is my first api\"\n",
        "\n",
        "@myApp.get('/clock')\n",
        "def clock():\n",
        "    return f\"date & time: {dt.now()}\"\n",
        "\n",
        "@myApp.get('/mynames')\n",
        "def names(first_name: bool = False, second_name: bool = False, full_name: bool = False):\n",
        "    full_names = \"\"\n",
        "    if first_name:\n",
        "        full_names += \"Irene\"\n",
        "    if second_name:\n",
        "        full_names += \" Nsengumukiza\"\n",
        "    if full_name:\n",
        "        full_names = \"Coldsober Irene\"\n",
        "    return full_names\n",
        "\n",
        "model = EasyNMT('opus-mt')\n",
        "@myApp.get('/translate')\n",
        "def translate(text: str = ''):\n",
        "  response = model.translate([text], target_lang = 'rw')\n",
        "  return response[0]\n",
        "\n"
      ],
      "metadata": {
        "id": "aqPht2jHsBcC"
      },
      "execution_count": 11,
      "outputs": []
    },
    {
      "cell_type": "code",
      "source": [
        "import nest_asyncio\n",
        "from pyngrok import ngrok\n",
        "import uvicorn"
      ],
      "metadata": {
        "id": "wEu8Qq4lwxnX"
      },
      "execution_count": 5,
      "outputs": []
    },
    {
      "cell_type": "code",
      "source": [
        "# use !pkill ngrok whenever you face session error 502 Error"
      ],
      "metadata": {
        "id": "yeJPGrzX1rn4"
      },
      "execution_count": null,
      "outputs": []
    },
    {
      "cell_type": "code",
      "source": [
        "ngrok_tunnel = ngrok.connect(8000)\n",
        "print(\"[REST API STARTED]\")\n",
        "print(\"[YOUR PUCLIC API URL]: \", ngrok_tunnel.public_url)\n",
        "# \n",
        "nest_asyncio.apply()\n",
        "uvicorn.run(myApp, port = 8000)"
      ],
      "metadata": {
        "id": "JGRjAtg9xEr7"
      },
      "execution_count": null,
      "outputs": []
    }
  ]
}